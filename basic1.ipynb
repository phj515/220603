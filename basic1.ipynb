{
  "nbformat": 4,
  "nbformat_minor": 0,
  "metadata": {
    "colab": {
      "name": "basic1.ipynb",
      "provenance": [],
      "authorship_tag": "ABX9TyNGdOu9jKfOXzwr01BpZ35B",
      "include_colab_link": true
    },
    "kernelspec": {
      "name": "python3",
      "display_name": "Python 3"
    },
    "language_info": {
      "name": "python"
    }
  },
  "cells": [
    {
      "cell_type": "markdown",
      "metadata": {
        "id": "view-in-github",
        "colab_type": "text"
      },
      "source": [
        "<a href=\"https://colab.research.google.com/github/phj515/220603/blob/main/basic1.ipynb\" target=\"_parent\"><img src=\"https://colab.research.google.com/assets/colab-badge.svg\" alt=\"Open In Colab\"/></a>"
      ]
    },
    {
      "cell_type": "code",
      "execution_count": 1,
      "metadata": {
        "colab": {
          "base_uri": "https://localhost:8080/"
        },
        "id": "2oCZ9nRd9U7O",
        "outputId": "3589f554-3583-4285-bd92-64eb8926a43a"
      },
      "outputs": [
        {
          "output_type": "stream",
          "name": "stdout",
          "text": [
            "안녕 파이썬!\n"
          ]
        }
      ],
      "source": [
        "print(\"안녕 파이썬!\")"
      ]
    },
    {
      "cell_type": "markdown",
      "source": [
        "[ ] 문자가 들어가는 것은 무조건 \"\" 또는 ''이 들어가야 한다."
      ],
      "metadata": {
        "id": "j-xzblNXB-pD"
      }
    },
    {
      "cell_type": "markdown",
      "source": [
        ""
      ],
      "metadata": {
        "id": "G_yTcbv4BxTD"
      }
    },
    {
      "cell_type": "code",
      "source": [
        "print(5+5)"
      ],
      "metadata": {
        "colab": {
          "base_uri": "https://localhost:8080/"
        },
        "id": "CKfXaMpB-qo7",
        "outputId": "617d537a-61fb-4a68-ac35-f892cbb33ec9"
      },
      "execution_count": 2,
      "outputs": [
        {
          "output_type": "stream",
          "name": "stdout",
          "text": [
            "10\n"
          ]
        }
      ]
    },
    {
      "cell_type": "markdown",
      "source": [
        "숫자가 들어가는 것은 숫자형이다. 더 자세히 이야기 하면 정수형과 실수형으로 나뉜다."
      ],
      "metadata": {
        "id": "fWbADf_wASSr"
      }
    },
    {
      "cell_type": "code",
      "source": [
        "print(\"3개의 정수값을 입력하시오.\")\n",
        "\n",
        "Int1 = int(input(\"첫번째 값을 입력하시오.: \"))\n",
        "Int2 = int(input(\"두번째 값을 입력하시오.: \"))\n",
        "Int3 = int(input(\"세번째 값을 입력하시오.: \"))\n",
        "print(Int1, Int2, Int3)\n",
        "sum = Int1 + Int2 + Int3\n",
        "print(sum)\n"
      ],
      "metadata": {
        "colab": {
          "base_uri": "https://localhost:8080/"
        },
        "id": "orG_VOBEAR1z",
        "outputId": "62035c84-4235-4877-ed91-1ff37665ad75"
      },
      "execution_count": 4,
      "outputs": [
        {
          "output_type": "stream",
          "name": "stdout",
          "text": [
            "3개의 정수값을 입력하시오.\n",
            "첫번째 값을 입력하시오.: 5\n",
            "두번째 값을 입력하시오.: 4\n",
            "세번째 값을 입력하시오.: 2\n",
            "5 4 2\n",
            "11\n"
          ]
        }
      ]
    },
    {
      "cell_type": "code",
      "source": [
        "total = 0\n",
        "counter = 1\n",
        "while counter <= 10:\n",
        "  grade = int(input(\"점수를 입력하시오.: \"))\n",
        "  total = grade + total\n",
        "  counter = counter + 1\n",
        "print(int(total))\n",
        "aver = total / 10\n",
        "print(aver)"
      ],
      "metadata": {
        "id": "0BhUSxcfC0Ak"
      },
      "execution_count": null,
      "outputs": []
    },
    {
      "cell_type": "code",
      "source": [
        "pay_rate = int(input(\"시급을 입력하시오. 2022년 6월 기준 9160원: \"))\n",
        "hour_work = int(input(\"일한 시간을 입력하시오.: \"))\n",
        "mon_pay = pay_rate * hour_work\n",
        "print(mon_pay)\n"
      ],
      "metadata": {
        "colab": {
          "base_uri": "https://localhost:8080/",
          "height": 245
        },
        "id": "kUP40lRwMJP4",
        "outputId": "041080ab-3da8-4270-89ba-6a04bba5f95c"
      },
      "execution_count": 14,
      "outputs": [
        {
          "name": "stdout",
          "output_type": "stream",
          "text": [
            "시급을 입력하시오. 2022년 6월 기준 9160원: 9160\n",
            "일한 시간을 입력하시오.: 72\n"
          ]
        },
        {
          "output_type": "error",
          "ename": "TypeError",
          "evalue": "ignored",
          "traceback": [
            "\u001b[0;31m---------------------------------------------------------------------------\u001b[0m",
            "\u001b[0;31mTypeError\u001b[0m                                 Traceback (most recent call last)",
            "\u001b[0;32m<ipython-input-14-74f4eae7e395>\u001b[0m in \u001b[0;36m<module>\u001b[0;34m()\u001b[0m\n\u001b[1;32m      2\u001b[0m \u001b[0mhour_work\u001b[0m \u001b[0;34m=\u001b[0m \u001b[0mint\u001b[0m\u001b[0;34m(\u001b[0m\u001b[0minput\u001b[0m\u001b[0;34m(\u001b[0m\u001b[0;34m\"일한 시간을 입력하시오.: \"\u001b[0m\u001b[0;34m)\u001b[0m\u001b[0;34m)\u001b[0m\u001b[0;34m\u001b[0m\u001b[0;34m\u001b[0m\u001b[0m\n\u001b[1;32m      3\u001b[0m \u001b[0mmon_pay\u001b[0m \u001b[0;34m=\u001b[0m \u001b[0mpay_rate\u001b[0m \u001b[0;34m*\u001b[0m \u001b[0mhour_work\u001b[0m\u001b[0;34m\u001b[0m\u001b[0;34m\u001b[0m\u001b[0m\n\u001b[0;32m----> 4\u001b[0;31m \u001b[0mprint\u001b[0m\u001b[0;34m(\u001b[0m\u001b[0mmon_pay\u001b[0m\u001b[0;34m)\u001b[0m\u001b[0;34m\u001b[0m\u001b[0;34m\u001b[0m\u001b[0m\n\u001b[0m",
            "\u001b[0;31mTypeError\u001b[0m: 'int' object is not callable"
          ]
        }
      ]
    },
    {
      "cell_type": "markdown",
      "source": [
        ""
      ],
      "metadata": {
        "id": "mVr3GxzTCax7"
      }
    }
  ]
}